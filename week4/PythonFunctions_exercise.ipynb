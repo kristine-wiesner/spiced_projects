{
 "cells": [
  {
   "cell_type": "markdown",
   "metadata": {},
   "source": [
    "# Python Functions Exercise"
   ]
  },
  {
   "cell_type": "code",
   "execution_count": 83,
   "metadata": {},
   "outputs": [],
   "source": [
    "# 1.) Write a Python program to print the even numbers from a given list.\n",
    "\n",
    "def list():\n",
    "    list =([31,32,35,23,64,22,11,24,108, 1001, 52000])\n",
    "    for num in list:\n",
    "       if num % 2 == 0:\n",
    "          print(num)"
   ]
  },
  {
   "cell_type": "code",
   "execution_count": 84,
   "metadata": {},
   "outputs": [
    {
     "name": "stdout",
     "output_type": "stream",
     "text": [
      "32\n",
      "64\n",
      "22\n",
      "24\n",
      "108\n",
      "52000\n"
     ]
    }
   ],
   "source": [
    "list()"
   ]
  },
  {
   "cell_type": "code",
   "execution_count": 85,
   "metadata": {},
   "outputs": [
    {
     "name": "stdout",
     "output_type": "stream",
     "text": [
      "-1824000\n"
     ]
    }
   ],
   "source": [
    "# 2) Write a Python function that multiplies all the numbers in a list\n",
    "\n",
    "def list(items):\n",
    "    num = 1\n",
    "    for x in items:\n",
    "        num *= x\n",
    "    return num\n",
    "print(list([100,2,-4, 10, 12, 19]))\n"
   ]
  },
  {
   "cell_type": "code",
   "execution_count": 86,
   "metadata": {},
   "outputs": [
    {
     "name": "stdout",
     "output_type": "stream",
     "text": [
      "[4, 5, 7, 10, 11, 90, 99]\n"
     ]
    }
   ],
   "source": [
    "# 3.) Write a Python function that takes a list and returns a new list with unique elements from the first list.\n",
    "\n",
    "def unique(l):\n",
    "  x = []\n",
    "  for a in l:\n",
    "    if a not in x:\n",
    "      x.append(a)\n",
    "  return x\n",
    "\n",
    "print(unique([4,5,7,7,7,10,11,11,11,90,99,90]))\n"
   ]
  },
  {
   "cell_type": "code",
   "execution_count": 91,
   "metadata": {},
   "outputs": [
    {
     "name": "stdout",
     "output_type": "stream",
     "text": [
      "True\n"
     ]
    }
   ],
   "source": [
    "# 4.)Write a Python function that checks whether a passed string is a palindrome or not.\n",
    "\n",
    "def palindrome(letter):\n",
    "    left = 0\n",
    "    right = len(letter) -1\n",
    "    while right >= left:\n",
    "        if not letter[left].lower() == letter[right].lower():\n",
    "            return False\n",
    "        left += 1\n",
    "        right -= 1\n",
    "    return True\n",
    "    \n",
    "print (palindrome('LaGertonnennOtRegal')) \n"
   ]
  },
  {
   "cell_type": "code",
   "execution_count": 95,
   "metadata": {},
   "outputs": [
    {
     "name": "stdout",
     "output_type": "stream",
     "text": [
      "True\n"
     ]
    }
   ],
   "source": [
    "# Bonus: Make the function work with whitespaces, cases, and punctuation.\n",
    "\n",
    "def palindrome(letter):\n",
    "    ascii_lowercase=\"abcdefghijklmnopqrstuvwxyz\"\n",
    "    word = \"\"\n",
    "    for char in letter:\n",
    "        lc = char.lower()\n",
    "        for x in lc:\n",
    "            if x in ascii_lowercase:\n",
    "                word += x\n",
    "\n",
    "    return word[::-1] == word\n",
    "\n",
    "\n",
    "print(palindrome('Pepe Am Pol!lop MAE pep.'))"
   ]
  },
  {
   "cell_type": "code",
   "execution_count": null,
   "metadata": {},
   "outputs": [],
   "source": []
  },
  {
   "cell_type": "code",
   "execution_count": null,
   "metadata": {},
   "outputs": [],
   "source": []
  }
 ],
 "metadata": {
  "kernelspec": {
   "display_name": "Python 3",
   "language": "python",
   "name": "python3"
  },
  "language_info": {
   "codemirror_mode": {
    "name": "ipython",
    "version": 3
   },
   "file_extension": ".py",
   "mimetype": "text/x-python",
   "name": "python",
   "nbconvert_exporter": "python",
   "pygments_lexer": "ipython3",
   "version": "3.8.3"
  },
  "varInspector": {
   "cols": {
    "lenName": 16,
    "lenType": 16,
    "lenVar": 40
   },
   "kernels_config": {
    "python": {
     "delete_cmd_postfix": "",
     "delete_cmd_prefix": "del ",
     "library": "var_list.py",
     "varRefreshCmd": "print(var_dic_list())"
    },
    "r": {
     "delete_cmd_postfix": ") ",
     "delete_cmd_prefix": "rm(",
     "library": "var_list.r",
     "varRefreshCmd": "cat(var_dic_list()) "
    }
   },
   "types_to_exclude": [
    "module",
    "function",
    "builtin_function_or_method",
    "instance",
    "_Feature"
   ],
   "window_display": false
  }
 },
 "nbformat": 4,
 "nbformat_minor": 4
}
