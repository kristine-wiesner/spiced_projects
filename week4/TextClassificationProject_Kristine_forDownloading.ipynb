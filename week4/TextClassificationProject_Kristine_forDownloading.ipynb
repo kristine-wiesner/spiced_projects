{
 "cells": [
  {
   "cell_type": "markdown",
   "metadata": {},
   "source": [
    "# Run only once"
   ]
  },
  {
   "cell_type": "code",
   "execution_count": 24,
   "metadata": {},
   "outputs": [],
   "source": [
    "import requests\n",
    "import re\n",
    "import os\n",
    "from collections import Counter\n",
    "from time import sleep\n",
    "from bs4 import BeautifulSoup\n"
   ]
  },
  {
   "cell_type": "code",
   "execution_count": 21,
   "metadata": {},
   "outputs": [],
   "source": [
    "path = 'songs'\n",
    "lyrics_path = 'lyrics'"
   ]
  },
  {
   "cell_type": "code",
   "execution_count": 10,
   "metadata": {},
   "outputs": [],
   "source": [
    "def create_dir(path):\n",
    "    if not os.path.exists(path):\n",
    "        os.mkdir(path)\n",
    "   "
   ]
  },
  {
   "cell_type": "code",
   "execution_count": 11,
   "metadata": {},
   "outputs": [],
   "source": [
    "def download_page(url):\n",
    "    page = requests.get (url)\n",
    "    page.encoding = 'utf-8'\n",
    "    return page.text"
   ]
  },
  {
   "cell_type": "code",
   "execution_count": 12,
   "metadata": {},
   "outputs": [],
   "source": [
    "def store_page(page_content, filename):\n",
    "    with open(filename,'wb') as file:\n",
    "        file.write(page_content.encode('utf8'))\n",
    "        file.close()"
   ]
  },
  {
   "cell_type": "code",
   "execution_count": 13,
   "metadata": {},
   "outputs": [],
   "source": [
    "def create_content(source_url, filename):\n",
    "    content = download_page(source_url)\n",
    "    create_dir(path)\n",
    "    store_page(content, path + '/' + filename)"
   ]
  },
  {
   "cell_type": "code",
   "execution_count": 14,
   "metadata": {},
   "outputs": [],
   "source": [
    "base_url = \"https://www.azlyrics.com/\"\n",
    "sheeran_url = base_url + \"e/edsheeran.html\"\n",
    "metallica_url = base_url + \"m/metallica.html\"\n",
    "\n",
    "create_content(sheeran_url, 'azsheeran.html')\n",
    "create_content(metallica_url, 'azmetallica.html')\n"
   ]
  },
  {
   "cell_type": "markdown",
   "metadata": {},
   "source": [
    "Get the files from the link list"
   ]
  },
  {
   "cell_type": "code",
   "execution_count": 27,
   "metadata": {},
   "outputs": [],
   "source": [
    "def download_songs(link_filename, artist):\n",
    "    complete_path = path + '/' + lyrics_path\n",
    "    create_dir(complete_path)\n",
    "    links = []\n",
    "    with open(path + \"/\" + link_filename,\"r\") as file:\n",
    "        for line in file:\n",
    "            links.append(line.strip())\n",
    "    for link in links[0:10]:\n",
    "        song_page = download_page(link)\n",
    "        store_page(song_page,complete_path + '/' + artist + \".\" + link.split('/')[5])\n",
    "        sleep(3)"
   ]
  },
  {
   "cell_type": "code",
   "execution_count": 26,
   "metadata": {},
   "outputs": [],
   "source": [
    "download_songs('sheeranlinks.txt', 'sheeran')\n",
    "download_songs('metallicalinks.txt', 'metallica')\n"
   ]
  },
  {
   "cell_type": "code",
   "execution_count": null,
   "metadata": {},
   "outputs": [],
   "source": []
  }
 ],
 "metadata": {
  "kernelspec": {
   "display_name": "Python 3",
   "language": "python",
   "name": "python3"
  },
  "language_info": {
   "codemirror_mode": {
    "name": "ipython",
    "version": 3
   },
   "file_extension": ".py",
   "mimetype": "text/x-python",
   "name": "python",
   "nbconvert_exporter": "python",
   "pygments_lexer": "ipython3",
   "version": "3.8.3"
  }
 },
 "nbformat": 4,
 "nbformat_minor": 4
}
