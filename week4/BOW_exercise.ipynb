{
 "cells": [
  {
   "cell_type": "markdown",
   "metadata": {},
   "source": [
    "# Bag of Words Exercise"
   ]
  },
  {
   "cell_type": "markdown",
   "metadata": {},
   "source": [
    "#### Get a corpus (needs to be in list form)"
   ]
  },
  {
   "cell_type": "code",
   "execution_count": 1,
   "metadata": {},
   "outputs": [],
   "source": [
    "corpus = \"\"\"\n",
    "she got the mm brown eyes, caramel thighs, long hair, no wedding ring,\n",
    "i saw you lookin' from across the way and now i really wanna know your name\n",
    "She got the mm white dress, but when she's wearing less\n",
    "you know that she drives me crazy\n",
    "the mm brown eyes, beautiful smile\n",
    "You know i love watching you do your thing\n",
    "\"\"\""
   ]
  },
  {
   "cell_type": "code",
   "execution_count": 2,
   "metadata": {},
   "outputs": [],
   "source": [
    "# our corpus needs TO BE IN LIST FORM\n",
    "corpus = [corpus]"
   ]
  },
  {
   "cell_type": "code",
   "execution_count": 3,
   "metadata": {},
   "outputs": [
    {
     "data": {
      "text/plain": [
       "['',\n",
       " 'she got the mm brown eyes, caramel thighs, long hair, no wedding ring,',\n",
       " \"i saw you lookin' from across the way and now i really wanna know your name\",\n",
       " \"She got the mm white dress, but when she's wearing less\",\n",
       " 'you know that she drives me crazy',\n",
       " 'the mm brown eyes, beautiful smile',\n",
       " 'You know i love watching you do your thing',\n",
       " '']"
      ]
     },
     "execution_count": 3,
     "metadata": {},
     "output_type": "execute_result"
    }
   ],
   "source": [
    "#we could choose to split our songs line by line!\n",
    "corpus[0].split('\\n')"
   ]
  },
  {
   "cell_type": "code",
   "execution_count": 4,
   "metadata": {},
   "outputs": [],
   "source": [
    "#lets add a new song\n",
    "new_song = \"\"\" \n",
    "L.A. on a Saturday night in the summer\n",
    "Sun down and they all come out\n",
    "Lamborghinis and their rented Hummers\n",
    "The party's on, so they're heading downtown\n",
    "\n",
    "Everybody's looking for a come-up\n",
    "And they wanna know what you're about\n",
    "Me in the middle with the one I love and\n",
    "We're just tryna figure everything out\n",
    "\"\"\""
   ]
  },
  {
   "cell_type": "code",
   "execution_count": 5,
   "metadata": {},
   "outputs": [],
   "source": [
    "corpus.append(new_song)"
   ]
  },
  {
   "cell_type": "code",
   "execution_count": 6,
   "metadata": {},
   "outputs": [
    {
     "data": {
      "text/plain": [
       "[\"\\nshe got the mm brown eyes, caramel thighs, long hair, no wedding ring,\\ni saw you lookin' from across the way and now i really wanna know your name\\nShe got the mm white dress, but when she's wearing less\\nyou know that she drives me crazy\\nthe mm brown eyes, beautiful smile\\nYou know i love watching you do your thing\\n\",\n",
       " \" \\nL.A. on a Saturday night in the summer\\nSun down and they all come out\\nLamborghinis and their rented Hummers\\nThe party's on, so they're heading downtown\\n\\nEverybody's looking for a come-up\\nAnd they wanna know what you're about\\nMe in the middle with the one I love and\\nWe're just tryna figure everything out\\n\"]"
      ]
     },
     "execution_count": 6,
     "metadata": {},
     "output_type": "execute_result"
    }
   ],
   "source": [
    "corpus"
   ]
  },
  {
   "cell_type": "code",
   "execution_count": 7,
   "metadata": {},
   "outputs": [],
   "source": [
    "from sklearn.feature_extraction.text import CountVectorizer"
   ]
  },
  {
   "cell_type": "code",
   "execution_count": 8,
   "metadata": {},
   "outputs": [],
   "source": [
    "cv = CountVectorizer()"
   ]
  },
  {
   "cell_type": "code",
   "execution_count": 9,
   "metadata": {},
   "outputs": [
    {
     "data": {
      "text/plain": [
       "CountVectorizer()"
      ]
     },
     "execution_count": 9,
     "metadata": {},
     "output_type": "execute_result"
    }
   ],
   "source": [
    "cv.fit(corpus)"
   ]
  },
  {
   "cell_type": "code",
   "execution_count": 10,
   "metadata": {},
   "outputs": [],
   "source": [
    "vec_corpus = cv.transform(corpus)"
   ]
  },
  {
   "cell_type": "code",
   "execution_count": 11,
   "metadata": {},
   "outputs": [
    {
     "data": {
      "text/plain": [
       "<2x76 sparse matrix of type '<class 'numpy.int64'>'\n",
       "\twith 83 stored elements in Compressed Sparse Row format>"
      ]
     },
     "execution_count": 11,
     "metadata": {},
     "output_type": "execute_result"
    }
   ],
   "source": [
    "vec_corpus"
   ]
  },
  {
   "cell_type": "code",
   "execution_count": 12,
   "metadata": {},
   "outputs": [
    {
     "data": {
      "text/plain": [
       "matrix([[0, 1, 0, 1, 1, 2, 1, 1, 0, 1, 1, 0, 0, 1, 1, 0, 0, 2, 0, 0, 1,\n",
       "         2, 1, 0, 0, 0, 0, 3, 0, 1, 1, 1, 0, 1, 1, 0, 3, 1, 0, 1, 1, 0,\n",
       "         0, 0, 0, 0, 1, 0, 1, 0, 1, 4, 1, 0, 0, 0, 1, 4, 0, 0, 1, 1, 0,\n",
       "         0, 1, 1, 1, 0, 1, 1, 0, 1, 1, 0, 4, 2],\n",
       "        [1, 0, 1, 4, 0, 0, 0, 0, 2, 0, 0, 1, 1, 0, 0, 1, 1, 0, 1, 1, 0,\n",
       "         0, 0, 1, 1, 2, 1, 1, 1, 0, 0, 0, 1, 1, 1, 1, 0, 0, 1, 0, 0, 2,\n",
       "         1, 2, 1, 3, 0, 1, 0, 1, 0, 0, 0, 1, 1, 1, 0, 4, 1, 3, 0, 0, 1,\n",
       "         1, 1, 0, 0, 1, 0, 0, 1, 0, 0, 1, 1, 0]], dtype=int64)"
      ]
     },
     "execution_count": 12,
     "metadata": {},
     "output_type": "execute_result"
    }
   ],
   "source": [
    "vec_corpus.todense()"
   ]
  },
  {
   "cell_type": "code",
   "execution_count": 13,
   "metadata": {},
   "outputs": [],
   "source": [
    "import pandas as pd"
   ]
  },
  {
   "cell_type": "code",
   "execution_count": 14,
   "metadata": {},
   "outputs": [
    {
     "data": {
      "text/html": [
       "<div>\n",
       "<style scoped>\n",
       "    .dataframe tbody tr th:only-of-type {\n",
       "        vertical-align: middle;\n",
       "    }\n",
       "\n",
       "    .dataframe tbody tr th {\n",
       "        vertical-align: top;\n",
       "    }\n",
       "\n",
       "    .dataframe thead th {\n",
       "        text-align: right;\n",
       "    }\n",
       "</style>\n",
       "<table border=\"1\" class=\"dataframe\">\n",
       "  <thead>\n",
       "    <tr style=\"text-align: right;\">\n",
       "      <th></th>\n",
       "      <th>about</th>\n",
       "      <th>across</th>\n",
       "      <th>all</th>\n",
       "      <th>and</th>\n",
       "      <th>beautiful</th>\n",
       "      <th>brown</th>\n",
       "      <th>but</th>\n",
       "      <th>caramel</th>\n",
       "      <th>come</th>\n",
       "      <th>crazy</th>\n",
       "      <th>...</th>\n",
       "      <th>way</th>\n",
       "      <th>we</th>\n",
       "      <th>wearing</th>\n",
       "      <th>wedding</th>\n",
       "      <th>what</th>\n",
       "      <th>when</th>\n",
       "      <th>white</th>\n",
       "      <th>with</th>\n",
       "      <th>you</th>\n",
       "      <th>your</th>\n",
       "    </tr>\n",
       "  </thead>\n",
       "  <tbody>\n",
       "    <tr>\n",
       "      <th>south</th>\n",
       "      <td>0</td>\n",
       "      <td>1</td>\n",
       "      <td>0</td>\n",
       "      <td>1</td>\n",
       "      <td>1</td>\n",
       "      <td>2</td>\n",
       "      <td>1</td>\n",
       "      <td>1</td>\n",
       "      <td>0</td>\n",
       "      <td>1</td>\n",
       "      <td>...</td>\n",
       "      <td>1</td>\n",
       "      <td>0</td>\n",
       "      <td>1</td>\n",
       "      <td>1</td>\n",
       "      <td>0</td>\n",
       "      <td>1</td>\n",
       "      <td>1</td>\n",
       "      <td>0</td>\n",
       "      <td>4</td>\n",
       "      <td>2</td>\n",
       "    </tr>\n",
       "    <tr>\n",
       "      <th>beautiful</th>\n",
       "      <td>1</td>\n",
       "      <td>0</td>\n",
       "      <td>1</td>\n",
       "      <td>4</td>\n",
       "      <td>0</td>\n",
       "      <td>0</td>\n",
       "      <td>0</td>\n",
       "      <td>0</td>\n",
       "      <td>2</td>\n",
       "      <td>0</td>\n",
       "      <td>...</td>\n",
       "      <td>0</td>\n",
       "      <td>1</td>\n",
       "      <td>0</td>\n",
       "      <td>0</td>\n",
       "      <td>1</td>\n",
       "      <td>0</td>\n",
       "      <td>0</td>\n",
       "      <td>1</td>\n",
       "      <td>1</td>\n",
       "      <td>0</td>\n",
       "    </tr>\n",
       "  </tbody>\n",
       "</table>\n",
       "<p>2 rows × 76 columns</p>\n",
       "</div>"
      ],
      "text/plain": [
       "           about  across  all  and  beautiful  brown  but  caramel  come  \\\n",
       "south          0       1    0    1          1      2    1        1     0   \n",
       "beautiful      1       0    1    4          0      0    0        0     2   \n",
       "\n",
       "           crazy  ...  way  we  wearing  wedding  what  when  white  with  \\\n",
       "south          1  ...    1   0        1        1     0     1      1     0   \n",
       "beautiful      0  ...    0   1        0        0     1     0      0     1   \n",
       "\n",
       "           you  your  \n",
       "south        4     2  \n",
       "beautiful    1     0  \n",
       "\n",
       "[2 rows x 76 columns]"
      ]
     },
     "execution_count": 14,
     "metadata": {},
     "output_type": "execute_result"
    }
   ],
   "source": [
    "# Just a word counter for each song - we call this Term Frequency, where term = token = word\n",
    "df = pd.DataFrame(vec_corpus.todense(), columns=cv.get_feature_names(), index=['south','beautiful'])\n",
    "df"
   ]
  },
  {
   "cell_type": "code",
   "execution_count": 15,
   "metadata": {},
   "outputs": [],
   "source": [
    "# The important bit is the no.of documents / no.of documents containing w! lets look at this for a couple of examples"
   ]
  },
  {
   "cell_type": "code",
   "execution_count": 16,
   "metadata": {},
   "outputs": [
    {
     "data": {
      "text/plain": [
       "south        2\n",
       "beautiful    0\n",
       "Name: eyes, dtype: int64"
      ]
     },
     "execution_count": 16,
     "metadata": {},
     "output_type": "execute_result"
    }
   ],
   "source": [
    "df['eyes'] "
   ]
  },
  {
   "cell_type": "code",
   "execution_count": 17,
   "metadata": {},
   "outputs": [
    {
     "data": {
      "text/plain": [
       "south        0\n",
       "beautiful    1\n",
       "Name: night, dtype: int64"
      ]
     },
     "execution_count": 17,
     "metadata": {},
     "output_type": "execute_result"
    }
   ],
   "source": [
    "df['night'] "
   ]
  },
  {
   "cell_type": "code",
   "execution_count": 18,
   "metadata": {},
   "outputs": [],
   "source": [
    "from sklearn.feature_extraction.text import TfidfTransformer"
   ]
  },
  {
   "cell_type": "code",
   "execution_count": 19,
   "metadata": {},
   "outputs": [],
   "source": [
    "tf = TfidfTransformer()"
   ]
  },
  {
   "cell_type": "code",
   "execution_count": 20,
   "metadata": {},
   "outputs": [
    {
     "data": {
      "text/plain": [
       "TfidfTransformer()"
      ]
     },
     "execution_count": 20,
     "metadata": {},
     "output_type": "execute_result"
    }
   ],
   "source": [
    "tf.fit(vec_corpus)"
   ]
  },
  {
   "cell_type": "code",
   "execution_count": 21,
   "metadata": {},
   "outputs": [],
   "source": [
    "tf_corpus = tf.transform(vec_corpus)"
   ]
  },
  {
   "cell_type": "code",
   "execution_count": 22,
   "metadata": {},
   "outputs": [
    {
     "data": {
      "text/html": [
       "<div>\n",
       "<style scoped>\n",
       "    .dataframe tbody tr th:only-of-type {\n",
       "        vertical-align: middle;\n",
       "    }\n",
       "\n",
       "    .dataframe tbody tr th {\n",
       "        vertical-align: top;\n",
       "    }\n",
       "\n",
       "    .dataframe thead th {\n",
       "        text-align: right;\n",
       "    }\n",
       "</style>\n",
       "<table border=\"1\" class=\"dataframe\">\n",
       "  <thead>\n",
       "    <tr style=\"text-align: right;\">\n",
       "      <th></th>\n",
       "      <th>about</th>\n",
       "      <th>across</th>\n",
       "      <th>all</th>\n",
       "      <th>and</th>\n",
       "      <th>beautiful</th>\n",
       "      <th>brown</th>\n",
       "      <th>but</th>\n",
       "      <th>caramel</th>\n",
       "      <th>come</th>\n",
       "      <th>crazy</th>\n",
       "      <th>...</th>\n",
       "      <th>way</th>\n",
       "      <th>we</th>\n",
       "      <th>wearing</th>\n",
       "      <th>wedding</th>\n",
       "      <th>what</th>\n",
       "      <th>when</th>\n",
       "      <th>white</th>\n",
       "      <th>with</th>\n",
       "      <th>you</th>\n",
       "      <th>your</th>\n",
       "    </tr>\n",
       "  </thead>\n",
       "  <tbody>\n",
       "    <tr>\n",
       "      <th>otherside</th>\n",
       "      <td>0.000000</td>\n",
       "      <td>0.103817</td>\n",
       "      <td>0.000000</td>\n",
       "      <td>0.073867</td>\n",
       "      <td>0.103817</td>\n",
       "      <td>0.207635</td>\n",
       "      <td>0.103817</td>\n",
       "      <td>0.103817</td>\n",
       "      <td>0.000000</td>\n",
       "      <td>0.103817</td>\n",
       "      <td>...</td>\n",
       "      <td>0.103817</td>\n",
       "      <td>0.000000</td>\n",
       "      <td>0.103817</td>\n",
       "      <td>0.103817</td>\n",
       "      <td>0.000000</td>\n",
       "      <td>0.103817</td>\n",
       "      <td>0.103817</td>\n",
       "      <td>0.000000</td>\n",
       "      <td>0.295468</td>\n",
       "      <td>0.207635</td>\n",
       "    </tr>\n",
       "    <tr>\n",
       "      <th>view_from_the_afternoon</th>\n",
       "      <td>0.111296</td>\n",
       "      <td>0.000000</td>\n",
       "      <td>0.111296</td>\n",
       "      <td>0.316752</td>\n",
       "      <td>0.000000</td>\n",
       "      <td>0.000000</td>\n",
       "      <td>0.000000</td>\n",
       "      <td>0.000000</td>\n",
       "      <td>0.222592</td>\n",
       "      <td>0.000000</td>\n",
       "      <td>...</td>\n",
       "      <td>0.000000</td>\n",
       "      <td>0.111296</td>\n",
       "      <td>0.000000</td>\n",
       "      <td>0.000000</td>\n",
       "      <td>0.111296</td>\n",
       "      <td>0.000000</td>\n",
       "      <td>0.000000</td>\n",
       "      <td>0.111296</td>\n",
       "      <td>0.079188</td>\n",
       "      <td>0.000000</td>\n",
       "    </tr>\n",
       "  </tbody>\n",
       "</table>\n",
       "<p>2 rows × 76 columns</p>\n",
       "</div>"
      ],
      "text/plain": [
       "                            about    across       all       and  beautiful  \\\n",
       "otherside                0.000000  0.103817  0.000000  0.073867   0.103817   \n",
       "view_from_the_afternoon  0.111296  0.000000  0.111296  0.316752   0.000000   \n",
       "\n",
       "                            brown       but   caramel      come     crazy  \\\n",
       "otherside                0.207635  0.103817  0.103817  0.000000  0.103817   \n",
       "view_from_the_afternoon  0.000000  0.000000  0.000000  0.222592  0.000000   \n",
       "\n",
       "                         ...       way        we   wearing   wedding  \\\n",
       "otherside                ...  0.103817  0.000000  0.103817  0.103817   \n",
       "view_from_the_afternoon  ...  0.000000  0.111296  0.000000  0.000000   \n",
       "\n",
       "                             what      when     white      with       you  \\\n",
       "otherside                0.000000  0.103817  0.103817  0.000000  0.295468   \n",
       "view_from_the_afternoon  0.111296  0.000000  0.000000  0.111296  0.079188   \n",
       "\n",
       "                             your  \n",
       "otherside                0.207635  \n",
       "view_from_the_afternoon  0.000000  \n",
       "\n",
       "[2 rows x 76 columns]"
      ]
     },
     "execution_count": 22,
     "metadata": {},
     "output_type": "execute_result"
    }
   ],
   "source": [
    "# tfidf relusts\n",
    "df2 = pd.DataFrame(tf_corpus.todense(), columns=cv.get_feature_names(), index=['otherside', 'view_from_the_afternoon'])\n",
    "df2"
   ]
  },
  {
   "cell_type": "code",
   "execution_count": 23,
   "metadata": {},
   "outputs": [
    {
     "data": {
      "text/html": [
       "<div>\n",
       "<style scoped>\n",
       "    .dataframe tbody tr th:only-of-type {\n",
       "        vertical-align: middle;\n",
       "    }\n",
       "\n",
       "    .dataframe tbody tr th {\n",
       "        vertical-align: top;\n",
       "    }\n",
       "\n",
       "    .dataframe thead th {\n",
       "        text-align: right;\n",
       "    }\n",
       "</style>\n",
       "<table border=\"1\" class=\"dataframe\">\n",
       "  <thead>\n",
       "    <tr style=\"text-align: right;\">\n",
       "      <th></th>\n",
       "      <th>about</th>\n",
       "      <th>across</th>\n",
       "      <th>all</th>\n",
       "      <th>and</th>\n",
       "      <th>beautiful</th>\n",
       "      <th>brown</th>\n",
       "      <th>but</th>\n",
       "      <th>caramel</th>\n",
       "      <th>come</th>\n",
       "      <th>crazy</th>\n",
       "      <th>...</th>\n",
       "      <th>way</th>\n",
       "      <th>we</th>\n",
       "      <th>wearing</th>\n",
       "      <th>wedding</th>\n",
       "      <th>what</th>\n",
       "      <th>when</th>\n",
       "      <th>white</th>\n",
       "      <th>with</th>\n",
       "      <th>you</th>\n",
       "      <th>your</th>\n",
       "    </tr>\n",
       "  </thead>\n",
       "  <tbody>\n",
       "    <tr>\n",
       "      <th>south</th>\n",
       "      <td>0</td>\n",
       "      <td>1</td>\n",
       "      <td>0</td>\n",
       "      <td>1</td>\n",
       "      <td>1</td>\n",
       "      <td>2</td>\n",
       "      <td>1</td>\n",
       "      <td>1</td>\n",
       "      <td>0</td>\n",
       "      <td>1</td>\n",
       "      <td>...</td>\n",
       "      <td>1</td>\n",
       "      <td>0</td>\n",
       "      <td>1</td>\n",
       "      <td>1</td>\n",
       "      <td>0</td>\n",
       "      <td>1</td>\n",
       "      <td>1</td>\n",
       "      <td>0</td>\n",
       "      <td>4</td>\n",
       "      <td>2</td>\n",
       "    </tr>\n",
       "    <tr>\n",
       "      <th>beautiful</th>\n",
       "      <td>1</td>\n",
       "      <td>0</td>\n",
       "      <td>1</td>\n",
       "      <td>4</td>\n",
       "      <td>0</td>\n",
       "      <td>0</td>\n",
       "      <td>0</td>\n",
       "      <td>0</td>\n",
       "      <td>2</td>\n",
       "      <td>0</td>\n",
       "      <td>...</td>\n",
       "      <td>0</td>\n",
       "      <td>1</td>\n",
       "      <td>0</td>\n",
       "      <td>0</td>\n",
       "      <td>1</td>\n",
       "      <td>0</td>\n",
       "      <td>0</td>\n",
       "      <td>1</td>\n",
       "      <td>1</td>\n",
       "      <td>0</td>\n",
       "    </tr>\n",
       "  </tbody>\n",
       "</table>\n",
       "<p>2 rows × 76 columns</p>\n",
       "</div>"
      ],
      "text/plain": [
       "           about  across  all  and  beautiful  brown  but  caramel  come  \\\n",
       "south          0       1    0    1          1      2    1        1     0   \n",
       "beautiful      1       0    1    4          0      0    0        0     2   \n",
       "\n",
       "           crazy  ...  way  we  wearing  wedding  what  when  white  with  \\\n",
       "south          1  ...    1   0        1        1     0     1      1     0   \n",
       "beautiful      0  ...    0   1        0        0     1     0      0     1   \n",
       "\n",
       "           you  your  \n",
       "south        4     2  \n",
       "beautiful    1     0  \n",
       "\n",
       "[2 rows x 76 columns]"
      ]
     },
     "execution_count": 23,
     "metadata": {},
     "output_type": "execute_result"
    }
   ],
   "source": [
    "# count vector results\n",
    "df"
   ]
  },
  {
   "cell_type": "markdown",
   "metadata": {},
   "source": [
    "###  the effect of tfidf?"
   ]
  },
  {
   "cell_type": "code",
   "execution_count": 24,
   "metadata": {},
   "outputs": [
    {
     "data": {
      "text/plain": [
       "otherside                  0.207635\n",
       "view_from_the_afternoon    0.000000\n",
       "Name: eyes, dtype: float64"
      ]
     },
     "execution_count": 24,
     "metadata": {},
     "output_type": "execute_result"
    }
   ],
   "source": [
    "df2['eyes']"
   ]
  },
  {
   "cell_type": "code",
   "execution_count": 25,
   "metadata": {},
   "outputs": [
    {
     "data": {
      "text/plain": [
       "otherside                  0.073867\n",
       "view_from_the_afternoon    0.316752\n",
       "Name: and, dtype: float64"
      ]
     },
     "execution_count": 25,
     "metadata": {},
     "output_type": "execute_result"
    }
   ],
   "source": [
    "df2['and']"
   ]
  },
  {
   "cell_type": "code",
   "execution_count": 26,
   "metadata": {},
   "outputs": [
    {
     "data": {
      "text/plain": [
       "south        59\n",
       "beautiful    55\n",
       "dtype: int64"
      ]
     },
     "execution_count": 26,
     "metadata": {},
     "output_type": "execute_result"
    }
   ],
   "source": [
    "df.sum(axis=1)"
   ]
  },
  {
   "cell_type": "code",
   "execution_count": null,
   "metadata": {},
   "outputs": [],
   "source": []
  }
 ],
 "metadata": {
  "kernelspec": {
   "display_name": "Python 3",
   "language": "python",
   "name": "python3"
  },
  "language_info": {
   "codemirror_mode": {
    "name": "ipython",
    "version": 3
   },
   "file_extension": ".py",
   "mimetype": "text/x-python",
   "name": "python",
   "nbconvert_exporter": "python",
   "pygments_lexer": "ipython3",
   "version": "3.8.3"
  },
  "varInspector": {
   "cols": {
    "lenName": 16,
    "lenType": 16,
    "lenVar": 40
   },
   "kernels_config": {
    "python": {
     "delete_cmd_postfix": "",
     "delete_cmd_prefix": "del ",
     "library": "var_list.py",
     "varRefreshCmd": "print(var_dic_list())"
    },
    "r": {
     "delete_cmd_postfix": ") ",
     "delete_cmd_prefix": "rm(",
     "library": "var_list.r",
     "varRefreshCmd": "cat(var_dic_list()) "
    }
   },
   "types_to_exclude": [
    "module",
    "function",
    "builtin_function_or_method",
    "instance",
    "_Feature"
   ],
   "window_display": false
  }
 },
 "nbformat": 4,
 "nbformat_minor": 4
}
