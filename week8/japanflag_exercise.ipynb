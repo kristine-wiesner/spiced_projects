{
 "cells": [
  {
   "cell_type": "code",
   "execution_count": 60,
   "metadata": {},
   "outputs": [
    {
     "data": {
      "image/png": "[encoded data removed]",
      "text/plain": [
       "<PIL.Image.Image image mode=RGB size=500x300 at 0x1A76E2987F0>"
      ]
     },
     "execution_count": 60,
     "metadata": {},
     "output_type": "execute_result"
    }
   ],
   "source": [
    "import numpy as np\n",
    "from PIL import Image\n",
    "\n",
    "\n",
    "from math import sqrt\n",
    "\n",
    "japan = np.full((300, 500, 3), 250, dtype=\"int8\")\n",
    "\n",
    "#axis\n",
    "x = 150\n",
    "y = 250\n",
    "#radius\n",
    "r = 60\n",
    "\n",
    "\n",
    "#location of circle\n",
    "for i in range(90,210) :\n",
    "    for j in range(100, 350) :\n",
    "        distance = sqrt((i - x )**2 + (j - y)**2)\n",
    "        if distance <= r :\n",
    "            japan[i, j, 0] = 188\n",
    "            japan[i, j, 1] = 0\n",
    "            japan[i, j, 2] = 45\n",
    "\n",
    "Image.fromarray(japan, 'RGB')"
   ]
  },
  {
   "cell_type": "code",
   "execution_count": null,
   "metadata": {},
   "outputs": [],
   "source": []
  }
 ],
 "metadata": {
  "hide_input": false,
  "kernelspec": {
   "display_name": "Python 3",
   "language": "python",
   "name": "python3"
  },
  "language_info": {
   "codemirror_mode": {
    "name": "ipython",
    "version": 3
   },
   "file_extension": ".py",
   "mimetype": "text/x-python",
   "name": "python",
   "nbconvert_exporter": "python",
   "pygments_lexer": "ipython3",
   "version": "3.8.3"
  },
  "toc": {
   "base_numbering": 1,
   "nav_menu": {},
   "number_sections": true,
   "sideBar": true,
   "skip_h1_title": false,
   "title_cell": "Table of Contents",
   "title_sidebar": "Contents",
   "toc_cell": false,
   "toc_position": {},
   "toc_section_display": true,
   "toc_window_display": false
  }
 },
 "nbformat": 4,
 "nbformat_minor": 4
}
